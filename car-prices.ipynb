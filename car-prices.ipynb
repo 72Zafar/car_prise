{
 "cells": [
  {
   "cell_type": "code",
   "execution_count": 1,
   "id": "b2a8cc4a",
   "metadata": {
    "_cell_guid": "b1076dfc-b9ad-4769-8c92-a6c4dae69d19",
    "_uuid": "8f2839f25d086af736a60e9eeb907d3b93b6e0e5",
    "execution": {
     "iopub.execute_input": "2024-09-27T18:25:09.402935Z",
     "iopub.status.busy": "2024-09-27T18:25:09.402432Z",
     "iopub.status.idle": "2024-09-27T18:25:10.344501Z",
     "shell.execute_reply": "2024-09-27T18:25:10.343160Z"
    },
    "papermill": {
     "duration": 0.960441,
     "end_time": "2024-09-27T18:25:10.347405",
     "exception": false,
     "start_time": "2024-09-27T18:25:09.386964",
     "status": "completed"
    },
    "tags": []
   },
   "outputs": [
    {
     "name": "stdout",
     "output_type": "stream",
     "text": [
      "/kaggle/input/car-price-prediction/car_price_prediction_.csv\n"
     ]
    }
   ],
   "source": [
    "# This Python 3 environment comes with many helpful analytics libraries installed\n",
    "# It is defined by the kaggle/python Docker image: https://github.com/kaggle/docker-python\n",
    "# For example, here's several helpful packages to load\n",
    "\n",
    "import numpy as np # linear algebra\n",
    "import pandas as pd # data processing, CSV file I/O (e.g. pd.read_csv)\n",
    "\n",
    "# Input data files are available in the read-only \"../input/\" directory\n",
    "# For example, running this (by clicking run or pressing Shift+Enter) will list all files under the input directory\n",
    "\n",
    "import os\n",
    "for dirname, _, filenames in os.walk('/kaggle/input'):\n",
    "    for filename in filenames:\n",
    "        print(os.path.join(dirname, filename))\n",
    "\n",
    "# You can write up to 20GB to the current directory (/kaggle/working/) that gets preserved as output when you create a version using \"Save & Run All\" \n",
    "# You can also write temporary files to /kaggle/temp/, but they won't be saved outside of the current session"
   ]
  },
  {
   "cell_type": "code",
   "execution_count": 2,
   "id": "443da9c3",
   "metadata": {
    "execution": {
     "iopub.execute_input": "2024-09-27T18:25:10.376013Z",
     "iopub.status.busy": "2024-09-27T18:25:10.375417Z",
     "iopub.status.idle": "2024-09-27T18:25:12.175133Z",
     "shell.execute_reply": "2024-09-27T18:25:12.173650Z"
    },
    "papermill": {
     "duration": 1.817518,
     "end_time": "2024-09-27T18:25:12.178384",
     "exception": false,
     "start_time": "2024-09-27T18:25:10.360866",
     "status": "completed"
    },
    "tags": []
   },
   "outputs": [],
   "source": [
    "import pandas as pd \n",
    "import numpy as np \n",
    "import seaborn as sns\n",
    "import matplotlib.pyplot as plt"
   ]
  },
  {
   "cell_type": "code",
   "execution_count": 3,
   "id": "597d7f0e",
   "metadata": {
    "execution": {
     "iopub.execute_input": "2024-09-27T18:25:12.208768Z",
     "iopub.status.busy": "2024-09-27T18:25:12.207474Z",
     "iopub.status.idle": "2024-09-27T18:25:12.239633Z",
     "shell.execute_reply": "2024-09-27T18:25:12.238379Z"
    },
    "papermill": {
     "duration": 0.050973,
     "end_time": "2024-09-27T18:25:12.242769",
     "exception": false,
     "start_time": "2024-09-27T18:25:12.191796",
     "status": "completed"
    },
    "tags": []
   },
   "outputs": [],
   "source": [
    "df = pd.read_csv(r\"/kaggle/input/car-price-prediction/car_price_prediction_.csv\")"
   ]
  },
  {
   "cell_type": "code",
   "execution_count": 4,
   "id": "53d30250",
   "metadata": {
    "execution": {
     "iopub.execute_input": "2024-09-27T18:25:12.270849Z",
     "iopub.status.busy": "2024-09-27T18:25:12.270398Z",
     "iopub.status.idle": "2024-09-27T18:25:12.300988Z",
     "shell.execute_reply": "2024-09-27T18:25:12.299739Z"
    },
    "papermill": {
     "duration": 0.048074,
     "end_time": "2024-09-27T18:25:12.303754",
     "exception": false,
     "start_time": "2024-09-27T18:25:12.255680",
     "status": "completed"
    },
    "tags": []
   },
   "outputs": [
    {
     "data": {
      "text/html": [
       "<div>\n",
       "<style scoped>\n",
       "    .dataframe tbody tr th:only-of-type {\n",
       "        vertical-align: middle;\n",
       "    }\n",
       "\n",
       "    .dataframe tbody tr th {\n",
       "        vertical-align: top;\n",
       "    }\n",
       "\n",
       "    .dataframe thead th {\n",
       "        text-align: right;\n",
       "    }\n",
       "</style>\n",
       "<table border=\"1\" class=\"dataframe\">\n",
       "  <thead>\n",
       "    <tr style=\"text-align: right;\">\n",
       "      <th></th>\n",
       "      <th>Car ID</th>\n",
       "      <th>Brand</th>\n",
       "      <th>Year</th>\n",
       "      <th>Engine Size</th>\n",
       "      <th>Fuel Type</th>\n",
       "      <th>Transmission</th>\n",
       "      <th>Mileage</th>\n",
       "      <th>Condition</th>\n",
       "      <th>Price</th>\n",
       "      <th>Model</th>\n",
       "    </tr>\n",
       "  </thead>\n",
       "  <tbody>\n",
       "    <tr>\n",
       "      <th>0</th>\n",
       "      <td>1</td>\n",
       "      <td>Tesla</td>\n",
       "      <td>2016</td>\n",
       "      <td>2.3</td>\n",
       "      <td>Petrol</td>\n",
       "      <td>Manual</td>\n",
       "      <td>114832</td>\n",
       "      <td>New</td>\n",
       "      <td>26613.92</td>\n",
       "      <td>Model X</td>\n",
       "    </tr>\n",
       "    <tr>\n",
       "      <th>1</th>\n",
       "      <td>2</td>\n",
       "      <td>BMW</td>\n",
       "      <td>2018</td>\n",
       "      <td>4.4</td>\n",
       "      <td>Electric</td>\n",
       "      <td>Manual</td>\n",
       "      <td>143190</td>\n",
       "      <td>Used</td>\n",
       "      <td>14679.61</td>\n",
       "      <td>5 Series</td>\n",
       "    </tr>\n",
       "    <tr>\n",
       "      <th>2</th>\n",
       "      <td>3</td>\n",
       "      <td>Audi</td>\n",
       "      <td>2013</td>\n",
       "      <td>4.5</td>\n",
       "      <td>Electric</td>\n",
       "      <td>Manual</td>\n",
       "      <td>181601</td>\n",
       "      <td>New</td>\n",
       "      <td>44402.61</td>\n",
       "      <td>A4</td>\n",
       "    </tr>\n",
       "    <tr>\n",
       "      <th>3</th>\n",
       "      <td>4</td>\n",
       "      <td>Tesla</td>\n",
       "      <td>2011</td>\n",
       "      <td>4.1</td>\n",
       "      <td>Diesel</td>\n",
       "      <td>Automatic</td>\n",
       "      <td>68682</td>\n",
       "      <td>New</td>\n",
       "      <td>86374.33</td>\n",
       "      <td>Model Y</td>\n",
       "    </tr>\n",
       "    <tr>\n",
       "      <th>4</th>\n",
       "      <td>5</td>\n",
       "      <td>Ford</td>\n",
       "      <td>2009</td>\n",
       "      <td>2.6</td>\n",
       "      <td>Diesel</td>\n",
       "      <td>Manual</td>\n",
       "      <td>223009</td>\n",
       "      <td>Like New</td>\n",
       "      <td>73577.10</td>\n",
       "      <td>Mustang</td>\n",
       "    </tr>\n",
       "  </tbody>\n",
       "</table>\n",
       "</div>"
      ],
      "text/plain": [
       "   Car ID  Brand  Year  Engine Size Fuel Type Transmission  Mileage Condition  \\\n",
       "0       1  Tesla  2016          2.3    Petrol       Manual   114832       New   \n",
       "1       2    BMW  2018          4.4  Electric       Manual   143190      Used   \n",
       "2       3   Audi  2013          4.5  Electric       Manual   181601       New   \n",
       "3       4  Tesla  2011          4.1    Diesel    Automatic    68682       New   \n",
       "4       5   Ford  2009          2.6    Diesel       Manual   223009  Like New   \n",
       "\n",
       "      Price     Model  \n",
       "0  26613.92   Model X  \n",
       "1  14679.61  5 Series  \n",
       "2  44402.61        A4  \n",
       "3  86374.33   Model Y  \n",
       "4  73577.10   Mustang  "
      ]
     },
     "execution_count": 4,
     "metadata": {},
     "output_type": "execute_result"
    }
   ],
   "source": [
    "df.head()"
   ]
  },
  {
   "cell_type": "code",
   "execution_count": 5,
   "id": "b252674e",
   "metadata": {
    "execution": {
     "iopub.execute_input": "2024-09-27T18:25:12.332100Z",
     "iopub.status.busy": "2024-09-27T18:25:12.331680Z",
     "iopub.status.idle": "2024-09-27T18:25:12.339171Z",
     "shell.execute_reply": "2024-09-27T18:25:12.338071Z"
    },
    "papermill": {
     "duration": 0.02507,
     "end_time": "2024-09-27T18:25:12.342039",
     "exception": false,
     "start_time": "2024-09-27T18:25:12.316969",
     "status": "completed"
    },
    "tags": []
   },
   "outputs": [
    {
     "data": {
      "text/plain": [
       "(2500, 10)"
      ]
     },
     "execution_count": 5,
     "metadata": {},
     "output_type": "execute_result"
    }
   ],
   "source": [
    "df.shape"
   ]
  },
  {
   "cell_type": "code",
   "execution_count": 6,
   "id": "7875edb2",
   "metadata": {
    "execution": {
     "iopub.execute_input": "2024-09-27T18:25:12.370988Z",
     "iopub.status.busy": "2024-09-27T18:25:12.370150Z",
     "iopub.status.idle": "2024-09-27T18:25:12.384458Z",
     "shell.execute_reply": "2024-09-27T18:25:12.383094Z"
    },
    "papermill": {
     "duration": 0.031618,
     "end_time": "2024-09-27T18:25:12.387064",
     "exception": false,
     "start_time": "2024-09-27T18:25:12.355446",
     "status": "completed"
    },
    "tags": []
   },
   "outputs": [
    {
     "data": {
      "text/plain": [
       "Car ID          0\n",
       "Brand           0\n",
       "Year            0\n",
       "Engine Size     0\n",
       "Fuel Type       0\n",
       "Transmission    0\n",
       "Mileage         0\n",
       "Condition       0\n",
       "Price           0\n",
       "Model           0\n",
       "dtype: int64"
      ]
     },
     "execution_count": 6,
     "metadata": {},
     "output_type": "execute_result"
    }
   ],
   "source": [
    "df.isnull().sum()"
   ]
  },
  {
   "cell_type": "code",
   "execution_count": 7,
   "id": "9e0bd3a5",
   "metadata": {
    "execution": {
     "iopub.execute_input": "2024-09-27T18:25:12.416187Z",
     "iopub.status.busy": "2024-09-27T18:25:12.415761Z",
     "iopub.status.idle": "2024-09-27T18:25:12.441833Z",
     "shell.execute_reply": "2024-09-27T18:25:12.439932Z"
    },
    "papermill": {
     "duration": 0.04403,
     "end_time": "2024-09-27T18:25:12.444768",
     "exception": false,
     "start_time": "2024-09-27T18:25:12.400738",
     "status": "completed"
    },
    "tags": []
   },
   "outputs": [
    {
     "name": "stdout",
     "output_type": "stream",
     "text": [
      "<class 'pandas.core.frame.DataFrame'>\n",
      "RangeIndex: 2500 entries, 0 to 2499\n",
      "Data columns (total 10 columns):\n",
      " #   Column        Non-Null Count  Dtype  \n",
      "---  ------        --------------  -----  \n",
      " 0   Car ID        2500 non-null   int64  \n",
      " 1   Brand         2500 non-null   object \n",
      " 2   Year          2500 non-null   int64  \n",
      " 3   Engine Size   2500 non-null   float64\n",
      " 4   Fuel Type     2500 non-null   object \n",
      " 5   Transmission  2500 non-null   object \n",
      " 6   Mileage       2500 non-null   int64  \n",
      " 7   Condition     2500 non-null   object \n",
      " 8   Price         2500 non-null   float64\n",
      " 9   Model         2500 non-null   object \n",
      "dtypes: float64(2), int64(3), object(5)\n",
      "memory usage: 195.4+ KB\n"
     ]
    }
   ],
   "source": [
    "df.info()"
   ]
  },
  {
   "cell_type": "code",
   "execution_count": 8,
   "id": "09bee419",
   "metadata": {
    "execution": {
     "iopub.execute_input": "2024-09-27T18:25:12.473230Z",
     "iopub.status.busy": "2024-09-27T18:25:12.472815Z",
     "iopub.status.idle": "2024-09-27T18:25:12.503606Z",
     "shell.execute_reply": "2024-09-27T18:25:12.502396Z"
    },
    "papermill": {
     "duration": 0.048225,
     "end_time": "2024-09-27T18:25:12.506295",
     "exception": false,
     "start_time": "2024-09-27T18:25:12.458070",
     "status": "completed"
    },
    "tags": []
   },
   "outputs": [
    {
     "data": {
      "text/html": [
       "<div>\n",
       "<style scoped>\n",
       "    .dataframe tbody tr th:only-of-type {\n",
       "        vertical-align: middle;\n",
       "    }\n",
       "\n",
       "    .dataframe tbody tr th {\n",
       "        vertical-align: top;\n",
       "    }\n",
       "\n",
       "    .dataframe thead th {\n",
       "        text-align: right;\n",
       "    }\n",
       "</style>\n",
       "<table border=\"1\" class=\"dataframe\">\n",
       "  <thead>\n",
       "    <tr style=\"text-align: right;\">\n",
       "      <th></th>\n",
       "      <th>Car ID</th>\n",
       "      <th>Year</th>\n",
       "      <th>Engine Size</th>\n",
       "      <th>Mileage</th>\n",
       "      <th>Price</th>\n",
       "    </tr>\n",
       "  </thead>\n",
       "  <tbody>\n",
       "    <tr>\n",
       "      <th>count</th>\n",
       "      <td>2500.00000</td>\n",
       "      <td>2500.0000</td>\n",
       "      <td>2500.000000</td>\n",
       "      <td>2500.000000</td>\n",
       "      <td>2500.000000</td>\n",
       "    </tr>\n",
       "    <tr>\n",
       "      <th>mean</th>\n",
       "      <td>1250.50000</td>\n",
       "      <td>2011.6268</td>\n",
       "      <td>3.465240</td>\n",
       "      <td>149749.844800</td>\n",
       "      <td>52638.022532</td>\n",
       "    </tr>\n",
       "    <tr>\n",
       "      <th>std</th>\n",
       "      <td>721.83216</td>\n",
       "      <td>6.9917</td>\n",
       "      <td>1.432053</td>\n",
       "      <td>87919.952034</td>\n",
       "      <td>27295.833455</td>\n",
       "    </tr>\n",
       "    <tr>\n",
       "      <th>min</th>\n",
       "      <td>1.00000</td>\n",
       "      <td>2000.0000</td>\n",
       "      <td>1.000000</td>\n",
       "      <td>15.000000</td>\n",
       "      <td>5011.270000</td>\n",
       "    </tr>\n",
       "    <tr>\n",
       "      <th>25%</th>\n",
       "      <td>625.75000</td>\n",
       "      <td>2005.0000</td>\n",
       "      <td>2.200000</td>\n",
       "      <td>71831.500000</td>\n",
       "      <td>28908.485000</td>\n",
       "    </tr>\n",
       "    <tr>\n",
       "      <th>50%</th>\n",
       "      <td>1250.50000</td>\n",
       "      <td>2012.0000</td>\n",
       "      <td>3.400000</td>\n",
       "      <td>149085.000000</td>\n",
       "      <td>53485.240000</td>\n",
       "    </tr>\n",
       "    <tr>\n",
       "      <th>75%</th>\n",
       "      <td>1875.25000</td>\n",
       "      <td>2018.0000</td>\n",
       "      <td>4.700000</td>\n",
       "      <td>225990.500000</td>\n",
       "      <td>75838.532500</td>\n",
       "    </tr>\n",
       "    <tr>\n",
       "      <th>max</th>\n",
       "      <td>2500.00000</td>\n",
       "      <td>2023.0000</td>\n",
       "      <td>6.000000</td>\n",
       "      <td>299967.000000</td>\n",
       "      <td>99982.590000</td>\n",
       "    </tr>\n",
       "  </tbody>\n",
       "</table>\n",
       "</div>"
      ],
      "text/plain": [
       "           Car ID       Year  Engine Size        Mileage         Price\n",
       "count  2500.00000  2500.0000  2500.000000    2500.000000   2500.000000\n",
       "mean   1250.50000  2011.6268     3.465240  149749.844800  52638.022532\n",
       "std     721.83216     6.9917     1.432053   87919.952034  27295.833455\n",
       "min       1.00000  2000.0000     1.000000      15.000000   5011.270000\n",
       "25%     625.75000  2005.0000     2.200000   71831.500000  28908.485000\n",
       "50%    1250.50000  2012.0000     3.400000  149085.000000  53485.240000\n",
       "75%    1875.25000  2018.0000     4.700000  225990.500000  75838.532500\n",
       "max    2500.00000  2023.0000     6.000000  299967.000000  99982.590000"
      ]
     },
     "execution_count": 8,
     "metadata": {},
     "output_type": "execute_result"
    }
   ],
   "source": [
    "df.describe()"
   ]
  },
  {
   "cell_type": "code",
   "execution_count": 9,
   "id": "b0721668",
   "metadata": {
    "execution": {
     "iopub.execute_input": "2024-09-27T18:25:12.535960Z",
     "iopub.status.busy": "2024-09-27T18:25:12.535517Z",
     "iopub.status.idle": "2024-09-27T18:25:12.971840Z",
     "shell.execute_reply": "2024-09-27T18:25:12.970554Z"
    },
    "papermill": {
     "duration": 0.454382,
     "end_time": "2024-09-27T18:25:12.974252",
     "exception": false,
     "start_time": "2024-09-27T18:25:12.519870",
     "status": "completed"
    },
    "tags": []
   },
   "outputs": [
    {
     "name": "stderr",
     "output_type": "stream",
     "text": [
      "/opt/conda/lib/python3.10/site-packages/seaborn/_oldcore.py:1119: FutureWarning: use_inf_as_na option is deprecated and will be removed in a future version. Convert inf values to NaN before operating instead.\n",
      "  with pd.option_context('mode.use_inf_as_na', True):\n"
     ]
    },
    {
     "data": {
      "image/png": "[encoded data removed]",
      "text/plain": [
       "<Figure size 1200x800 with 1 Axes>"
      ]
     },
     "metadata": {},
     "output_type": "display_data"
    }
   ],
   "source": [
    "plt.figure(figsize=(12,8))\n",
    "sns.histplot(data=df, x=\"Price\", kde=True)\n",
    "plt.show()"
   ]
  },
  {
   "cell_type": "code",
   "execution_count": 10,
   "id": "2d166062",
   "metadata": {
    "execution": {
     "iopub.execute_input": "2024-09-27T18:25:13.005072Z",
     "iopub.status.busy": "2024-09-27T18:25:13.004588Z",
     "iopub.status.idle": "2024-09-27T18:25:13.016109Z",
     "shell.execute_reply": "2024-09-27T18:25:13.014741Z"
    },
    "papermill": {
     "duration": 0.030451,
     "end_time": "2024-09-27T18:25:13.019017",
     "exception": false,
     "start_time": "2024-09-27T18:25:12.988566",
     "status": "completed"
    },
    "tags": []
   },
   "outputs": [
    {
     "data": {
      "text/plain": [
       "Brand\n",
       "Toyota      374\n",
       "Audi        368\n",
       "BMW         358\n",
       "Mercedes    353\n",
       "Honda       352\n",
       "Tesla       348\n",
       "Ford        347\n",
       "Name: count, dtype: int64"
      ]
     },
     "execution_count": 10,
     "metadata": {},
     "output_type": "execute_result"
    }
   ],
   "source": [
    "df[\"Brand\"].value_counts()"
   ]
  },
  {
   "cell_type": "code",
   "execution_count": 11,
   "id": "000aad0b",
   "metadata": {
    "execution": {
     "iopub.execute_input": "2024-09-27T18:25:13.050352Z",
     "iopub.status.busy": "2024-09-27T18:25:13.049803Z",
     "iopub.status.idle": "2024-09-27T18:25:13.344188Z",
     "shell.execute_reply": "2024-09-27T18:25:13.342821Z"
    },
    "papermill": {
     "duration": 0.313089,
     "end_time": "2024-09-27T18:25:13.346752",
     "exception": false,
     "start_time": "2024-09-27T18:25:13.033663",
     "status": "completed"
    },
    "tags": []
   },
   "outputs": [
    {
     "data": {
      "image/png": "[encoded data removed]",
      "text/plain": [
       "<Figure size 640x480 with 1 Axes>"
      ]
     },
     "metadata": {},
     "output_type": "display_data"
    }
   ],
   "source": [
    "ax = sns.countplot(x=\"Brand\",data=df)\n",
    "ax.bar_label(ax.containers[0])\n",
    "plt.show()"
   ]
  },
  {
   "cell_type": "code",
   "execution_count": 12,
   "id": "2b7ee20e",
   "metadata": {
    "execution": {
     "iopub.execute_input": "2024-09-27T18:25:13.379384Z",
     "iopub.status.busy": "2024-09-27T18:25:13.378910Z",
     "iopub.status.idle": "2024-09-27T18:25:13.391245Z",
     "shell.execute_reply": "2024-09-27T18:25:13.389878Z"
    },
    "papermill": {
     "duration": 0.031688,
     "end_time": "2024-09-27T18:25:13.393577",
     "exception": false,
     "start_time": "2024-09-27T18:25:13.361889",
     "status": "completed"
    },
    "tags": []
   },
   "outputs": [
    {
     "data": {
      "text/plain": [
       "Year\n",
       "2020    122\n",
       "2016    118\n",
       "2003    118\n",
       "2022    112\n",
       "2021    112\n",
       "2012    111\n",
       "2007    110\n",
       "2002    110\n",
       "2001    109\n",
       "2008    109\n",
       "2014    109\n",
       "2018    106\n",
       "2023    103\n",
       "2005    103\n",
       "2019    103\n",
       "2011    101\n",
       "2004    100\n",
       "2017     97\n",
       "2010     95\n",
       "2013     95\n",
       "2000     93\n",
       "2009     90\n",
       "2015     88\n",
       "2006     86\n",
       "Name: count, dtype: int64"
      ]
     },
     "execution_count": 12,
     "metadata": {},
     "output_type": "execute_result"
    }
   ],
   "source": [
    "df[\"Year\"].value_counts()"
   ]
  },
  {
   "cell_type": "code",
   "execution_count": 13,
   "id": "7dea9a2f",
   "metadata": {
    "execution": {
     "iopub.execute_input": "2024-09-27T18:25:13.425947Z",
     "iopub.status.busy": "2024-09-27T18:25:13.425558Z",
     "iopub.status.idle": "2024-09-27T18:25:13.439547Z",
     "shell.execute_reply": "2024-09-27T18:25:13.438402Z"
    },
    "papermill": {
     "duration": 0.033336,
     "end_time": "2024-09-27T18:25:13.442110",
     "exception": false,
     "start_time": "2024-09-27T18:25:13.408774",
     "status": "completed"
    },
    "tags": []
   },
   "outputs": [
    {
     "data": {
      "text/plain": [
       "Engine Size\n",
       "1.3    69\n",
       "3.9    65\n",
       "3.0    61\n",
       "1.8    60\n",
       "2.7    60\n",
       "5.1    57\n",
       "4.0    57\n",
       "2.2    56\n",
       "3.1    56\n",
       "4.8    56\n",
       "4.5    56\n",
       "4.4    56\n",
       "1.4    54\n",
       "2.1    54\n",
       "5.7    53\n",
       "5.0    53\n",
       "2.6    53\n",
       "3.4    52\n",
       "2.9    52\n",
       "5.8    52\n",
       "3.7    51\n",
       "2.0    51\n",
       "5.4    51\n",
       "2.4    51\n",
       "3.2    50\n",
       "3.8    50\n",
       "4.7    50\n",
       "1.9    49\n",
       "5.2    49\n",
       "4.2    49\n",
       "2.5    48\n",
       "1.7    48\n",
       "1.2    48\n",
       "2.8    46\n",
       "2.3    46\n",
       "3.3    45\n",
       "4.1    45\n",
       "5.5    44\n",
       "4.3    44\n",
       "5.3    44\n",
       "1.6    43\n",
       "1.5    43\n",
       "5.9    42\n",
       "1.1    42\n",
       "3.5    41\n",
       "3.6    40\n",
       "5.6    39\n",
       "4.6    38\n",
       "4.9    33\n",
       "6.0    25\n",
       "1.0    23\n",
       "Name: count, dtype: int64"
      ]
     },
     "execution_count": 13,
     "metadata": {},
     "output_type": "execute_result"
    }
   ],
   "source": [
    "df[\"Engine Size\"].value_counts()"
   ]
  },
  {
   "cell_type": "code",
   "execution_count": 14,
   "id": "9944ee39",
   "metadata": {
    "execution": {
     "iopub.execute_input": "2024-09-27T18:25:13.474669Z",
     "iopub.status.busy": "2024-09-27T18:25:13.474225Z",
     "iopub.status.idle": "2024-09-27T18:25:13.486586Z",
     "shell.execute_reply": "2024-09-27T18:25:13.485315Z"
    },
    "papermill": {
     "duration": 0.032238,
     "end_time": "2024-09-27T18:25:13.489435",
     "exception": false,
     "start_time": "2024-09-27T18:25:13.457197",
     "status": "completed"
    },
    "tags": []
   },
   "outputs": [
    {
     "data": {
      "text/plain": [
       "2499    Diesel\n",
       "2003    Diesel\n",
       "767     Diesel\n",
       "768     Diesel\n",
       "1999    Diesel\n",
       "         ...  \n",
       "844     Petrol\n",
       "842     Petrol\n",
       "841     Petrol\n",
       "1930    Petrol\n",
       "0       Petrol\n",
       "Name: Fuel Type, Length: 2500, dtype: object"
      ]
     },
     "execution_count": 14,
     "metadata": {},
     "output_type": "execute_result"
    }
   ],
   "source": [
    "df[\"Fuel Type\"].sort_values()"
   ]
  },
  {
   "cell_type": "code",
   "execution_count": 15,
   "id": "d65e8162",
   "metadata": {
    "execution": {
     "iopub.execute_input": "2024-09-27T18:25:13.523524Z",
     "iopub.status.busy": "2024-09-27T18:25:13.522936Z",
     "iopub.status.idle": "2024-09-27T18:25:13.769892Z",
     "shell.execute_reply": "2024-09-27T18:25:13.768656Z"
    },
    "papermill": {
     "duration": 0.266944,
     "end_time": "2024-09-27T18:25:13.772541",
     "exception": false,
     "start_time": "2024-09-27T18:25:13.505597",
     "status": "completed"
    },
    "tags": []
   },
   "outputs": [
    {
     "data": {
      "image/png": "[encoded data removed]",
      "text/plain": [
       "<Figure size 640x480 with 1 Axes>"
      ]
     },
     "metadata": {},
     "output_type": "display_data"
    }
   ],
   "source": [
    "ax = sns.countplot(data=df, x=\"Fuel Type\")\n",
    "ax.bar_label(ax.containers[0])\n",
    "plt.show()"
   ]
  },
  {
   "cell_type": "code",
   "execution_count": 16,
   "id": "4179a8a9",
   "metadata": {
    "execution": {
     "iopub.execute_input": "2024-09-27T18:25:13.807076Z",
     "iopub.status.busy": "2024-09-27T18:25:13.806277Z",
     "iopub.status.idle": "2024-09-27T18:25:13.816334Z",
     "shell.execute_reply": "2024-09-27T18:25:13.815067Z"
    },
    "papermill": {
     "duration": 0.030208,
     "end_time": "2024-09-27T18:25:13.818804",
     "exception": false,
     "start_time": "2024-09-27T18:25:13.788596",
     "status": "completed"
    },
    "tags": []
   },
   "outputs": [
    {
     "data": {
      "text/plain": [
       "Transmission\n",
       "Manual       1308\n",
       "Automatic    1192\n",
       "Name: count, dtype: int64"
      ]
     },
     "execution_count": 16,
     "metadata": {},
     "output_type": "execute_result"
    }
   ],
   "source": [
    "df[\"Transmission\"].value_counts()"
   ]
  },
  {
   "cell_type": "code",
   "execution_count": 17,
   "id": "a2aa1563",
   "metadata": {
    "execution": {
     "iopub.execute_input": "2024-09-27T18:25:13.853959Z",
     "iopub.status.busy": "2024-09-27T18:25:13.852454Z",
     "iopub.status.idle": "2024-09-27T18:25:14.076656Z",
     "shell.execute_reply": "2024-09-27T18:25:14.075350Z"
    },
    "papermill": {
     "duration": 0.244464,
     "end_time": "2024-09-27T18:25:14.079485",
     "exception": false,
     "start_time": "2024-09-27T18:25:13.835021",
     "status": "completed"
    },
    "tags": []
   },
   "outputs": [
    {
     "data": {
      "image/png": "[encoded data removed]",
      "text/plain": [
       "<Figure size 640x480 with 1 Axes>"
      ]
     },
     "metadata": {},
     "output_type": "display_data"
    }
   ],
   "source": [
    "ax = sns.countplot(data = df, x=\"Transmission\")\n",
    "ax.bar_label(ax.containers[0])\n",
    "plt.show()"
   ]
  },
  {
   "cell_type": "code",
   "execution_count": 18,
   "id": "5f7fe9ea",
   "metadata": {
    "execution": {
     "iopub.execute_input": "2024-09-27T18:25:14.115395Z",
     "iopub.status.busy": "2024-09-27T18:25:14.114865Z",
     "iopub.status.idle": "2024-09-27T18:25:14.125519Z",
     "shell.execute_reply": "2024-09-27T18:25:14.124321Z"
    },
    "papermill": {
     "duration": 0.03146,
     "end_time": "2024-09-27T18:25:14.127944",
     "exception": false,
     "start_time": "2024-09-27T18:25:14.096484",
     "status": "completed"
    },
    "tags": []
   },
   "outputs": [
    {
     "data": {
      "text/plain": [
       "Condition\n",
       "Used        855\n",
       "Like New    836\n",
       "New         809\n",
       "Name: count, dtype: int64"
      ]
     },
     "execution_count": 18,
     "metadata": {},
     "output_type": "execute_result"
    }
   ],
   "source": [
    "df[\"Condition\"].value_counts()"
   ]
  },
  {
   "cell_type": "code",
   "execution_count": 19,
   "id": "21a0e8aa",
   "metadata": {
    "execution": {
     "iopub.execute_input": "2024-09-27T18:25:14.162969Z",
     "iopub.status.busy": "2024-09-27T18:25:14.162563Z",
     "iopub.status.idle": "2024-09-27T18:25:14.406515Z",
     "shell.execute_reply": "2024-09-27T18:25:14.405232Z"
    },
    "papermill": {
     "duration": 0.266605,
     "end_time": "2024-09-27T18:25:14.411143",
     "exception": false,
     "start_time": "2024-09-27T18:25:14.144538",
     "status": "completed"
    },
    "tags": []
   },
   "outputs": [
    {
     "data": {
      "image/png": "[encoded data removed]",
      "text/plain": [
       "<Figure size 640x480 with 1 Axes>"
      ]
     },
     "metadata": {},
     "output_type": "display_data"
    }
   ],
   "source": [
    "ax = sns.countplot(data=df, x = \"Condition\")\n",
    "ax.bar_label(ax.containers[0])\n",
    "plt.show()"
   ]
  },
  {
   "cell_type": "code",
   "execution_count": 20,
   "id": "af9d1455",
   "metadata": {
    "execution": {
     "iopub.execute_input": "2024-09-27T18:25:14.449621Z",
     "iopub.status.busy": "2024-09-27T18:25:14.449106Z",
     "iopub.status.idle": "2024-09-27T18:25:14.460662Z",
     "shell.execute_reply": "2024-09-27T18:25:14.459373Z"
    },
    "papermill": {
     "duration": 0.034564,
     "end_time": "2024-09-27T18:25:14.463760",
     "exception": false,
     "start_time": "2024-09-27T18:25:14.429196",
     "status": "completed"
    },
    "tags": []
   },
   "outputs": [
    {
     "data": {
      "text/plain": [
       "Model\n",
       "Fiesta      103\n",
       "Corolla     103\n",
       "A3           98\n",
       "A4           96\n",
       "CR-V         95\n",
       "Q7           95\n",
       "5 Series     93\n",
       "Model X      93\n",
       "Prius        93\n",
       "3 Series     93\n",
       "X3           92\n",
       "GLA          92\n",
       "C-Class      92\n",
       "Camry        90\n",
       "E-Class      89\n",
       "Model Y      89\n",
       "Fit          89\n",
       "RAV4         88\n",
       "Accord       88\n",
       "Model 3      87\n",
       "Explorer     86\n",
       "Focus        81\n",
       "GLC          80\n",
       "Civic        80\n",
       "X5           80\n",
       "Model S      79\n",
       "Q5           79\n",
       "Mustang      77\n",
       "Name: count, dtype: int64"
      ]
     },
     "execution_count": 20,
     "metadata": {},
     "output_type": "execute_result"
    }
   ],
   "source": [
    "df[\"Model\"].value_counts()"
   ]
  },
  {
   "cell_type": "code",
   "execution_count": 21,
   "id": "26549c50",
   "metadata": {
    "execution": {
     "iopub.execute_input": "2024-09-27T18:25:14.500341Z",
     "iopub.status.busy": "2024-09-27T18:25:14.499833Z",
     "iopub.status.idle": "2024-09-27T18:25:14.509817Z",
     "shell.execute_reply": "2024-09-27T18:25:14.508675Z"
    },
    "papermill": {
     "duration": 0.031431,
     "end_time": "2024-09-27T18:25:14.512431",
     "exception": false,
     "start_time": "2024-09-27T18:25:14.481000",
     "status": "completed"
    },
    "tags": []
   },
   "outputs": [],
   "source": [
    "df.drop(columns = [\"Car ID\"],inplace = True )"
   ]
  },
  {
   "cell_type": "code",
   "execution_count": 22,
   "id": "49db1ab8",
   "metadata": {
    "execution": {
     "iopub.execute_input": "2024-09-27T18:25:14.548926Z",
     "iopub.status.busy": "2024-09-27T18:25:14.548444Z",
     "iopub.status.idle": "2024-09-27T18:25:14.850210Z",
     "shell.execute_reply": "2024-09-27T18:25:14.848068Z"
    },
    "papermill": {
     "duration": 0.325017,
     "end_time": "2024-09-27T18:25:14.854892",
     "exception": false,
     "start_time": "2024-09-27T18:25:14.529875",
     "status": "completed"
    },
    "tags": []
   },
   "outputs": [],
   "source": [
    "from sklearn.preprocessing import LabelEncoder\n",
    "from sklearn.preprocessing import StandardScaler\n",
    "from sklearn.model_selection import train_test_split"
   ]
  },
  {
   "cell_type": "code",
   "execution_count": 23,
   "id": "05b8df8f",
   "metadata": {
    "execution": {
     "iopub.execute_input": "2024-09-27T18:25:14.901589Z",
     "iopub.status.busy": "2024-09-27T18:25:14.900409Z",
     "iopub.status.idle": "2024-09-27T18:25:14.909793Z",
     "shell.execute_reply": "2024-09-27T18:25:14.908550Z"
    },
    "papermill": {
     "duration": 0.036244,
     "end_time": "2024-09-27T18:25:14.912227",
     "exception": false,
     "start_time": "2024-09-27T18:25:14.875983",
     "status": "completed"
    },
    "tags": []
   },
   "outputs": [],
   "source": [
    "le = LabelEncoder()\n",
    "df[\"Brand\"] = le.fit_transform(df[\"Brand\"])"
   ]
  },
  {
   "cell_type": "code",
   "execution_count": 24,
   "id": "5b3af301",
   "metadata": {
    "execution": {
     "iopub.execute_input": "2024-09-27T18:25:14.956805Z",
     "iopub.status.busy": "2024-09-27T18:25:14.956216Z",
     "iopub.status.idle": "2024-09-27T18:25:14.964254Z",
     "shell.execute_reply": "2024-09-27T18:25:14.963001Z"
    },
    "papermill": {
     "duration": 0.033862,
     "end_time": "2024-09-27T18:25:14.966802",
     "exception": false,
     "start_time": "2024-09-27T18:25:14.932940",
     "status": "completed"
    },
    "tags": []
   },
   "outputs": [],
   "source": [
    "le = LabelEncoder()\n",
    "df[\"Fuel Type\"] = le.fit_transform(df[\"Fuel Type\"])"
   ]
  },
  {
   "cell_type": "code",
   "execution_count": 25,
   "id": "a7112353",
   "metadata": {
    "execution": {
     "iopub.execute_input": "2024-09-27T18:25:15.006039Z",
     "iopub.status.busy": "2024-09-27T18:25:15.005606Z",
     "iopub.status.idle": "2024-09-27T18:25:15.012840Z",
     "shell.execute_reply": "2024-09-27T18:25:15.011726Z"
    },
    "papermill": {
     "duration": 0.030934,
     "end_time": "2024-09-27T18:25:15.015251",
     "exception": false,
     "start_time": "2024-09-27T18:25:14.984317",
     "status": "completed"
    },
    "tags": []
   },
   "outputs": [],
   "source": [
    "le = LabelEncoder()\n",
    "df[\"Transmission\"] = le.fit_transform(df[\"Transmission\"])"
   ]
  },
  {
   "cell_type": "code",
   "execution_count": 26,
   "id": "14152cc9",
   "metadata": {
    "execution": {
     "iopub.execute_input": "2024-09-27T18:25:15.053461Z",
     "iopub.status.busy": "2024-09-27T18:25:15.052192Z",
     "iopub.status.idle": "2024-09-27T18:25:15.060281Z",
     "shell.execute_reply": "2024-09-27T18:25:15.059049Z"
    },
    "papermill": {
     "duration": 0.029555,
     "end_time": "2024-09-27T18:25:15.062696",
     "exception": false,
     "start_time": "2024-09-27T18:25:15.033141",
     "status": "completed"
    },
    "tags": []
   },
   "outputs": [],
   "source": [
    "le = LabelEncoder()\n",
    "df[\"Condition\"] = le.fit_transform(df[\"Condition\"])"
   ]
  },
  {
   "cell_type": "code",
   "execution_count": 27,
   "id": "11e7b8be",
   "metadata": {
    "execution": {
     "iopub.execute_input": "2024-09-27T18:25:15.099012Z",
     "iopub.status.busy": "2024-09-27T18:25:15.098517Z",
     "iopub.status.idle": "2024-09-27T18:25:15.106102Z",
     "shell.execute_reply": "2024-09-27T18:25:15.104900Z"
    },
    "papermill": {
     "duration": 0.02885,
     "end_time": "2024-09-27T18:25:15.108662",
     "exception": false,
     "start_time": "2024-09-27T18:25:15.079812",
     "status": "completed"
    },
    "tags": []
   },
   "outputs": [],
   "source": [
    "le = LabelEncoder()\n",
    "df[\"Model\"] = le.fit_transform(df[\"Model\"])"
   ]
  },
  {
   "cell_type": "code",
   "execution_count": 28,
   "id": "3b522a51",
   "metadata": {
    "execution": {
     "iopub.execute_input": "2024-09-27T18:25:15.144663Z",
     "iopub.status.busy": "2024-09-27T18:25:15.144203Z",
     "iopub.status.idle": "2024-09-27T18:25:15.157780Z",
     "shell.execute_reply": "2024-09-27T18:25:15.156124Z"
    },
    "papermill": {
     "duration": 0.034895,
     "end_time": "2024-09-27T18:25:15.160682",
     "exception": false,
     "start_time": "2024-09-27T18:25:15.125787",
     "status": "completed"
    },
    "tags": []
   },
   "outputs": [
    {
     "name": "stdout",
     "output_type": "stream",
     "text": [
      "<class 'pandas.core.frame.DataFrame'>\n",
      "RangeIndex: 2500 entries, 0 to 2499\n",
      "Data columns (total 9 columns):\n",
      " #   Column        Non-Null Count  Dtype  \n",
      "---  ------        --------------  -----  \n",
      " 0   Brand         2500 non-null   int64  \n",
      " 1   Year          2500 non-null   int64  \n",
      " 2   Engine Size   2500 non-null   float64\n",
      " 3   Fuel Type     2500 non-null   int64  \n",
      " 4   Transmission  2500 non-null   int64  \n",
      " 5   Mileage       2500 non-null   int64  \n",
      " 6   Condition     2500 non-null   int64  \n",
      " 7   Price         2500 non-null   float64\n",
      " 8   Model         2500 non-null   int64  \n",
      "dtypes: float64(2), int64(7)\n",
      "memory usage: 175.9 KB\n"
     ]
    }
   ],
   "source": [
    "df.info()"
   ]
  },
  {
   "cell_type": "code",
   "execution_count": 29,
   "id": "21a06df9",
   "metadata": {
    "execution": {
     "iopub.execute_input": "2024-09-27T18:25:15.198070Z",
     "iopub.status.busy": "2024-09-27T18:25:15.197045Z",
     "iopub.status.idle": "2024-09-27T18:25:15.204286Z",
     "shell.execute_reply": "2024-09-27T18:25:15.203207Z"
    },
    "papermill": {
     "duration": 0.028871,
     "end_time": "2024-09-27T18:25:15.206778",
     "exception": false,
     "start_time": "2024-09-27T18:25:15.177907",
     "status": "completed"
    },
    "tags": []
   },
   "outputs": [],
   "source": [
    "x = df.drop(\"Price\", axis=1)\n",
    "y = df[\"Price\"]"
   ]
  },
  {
   "cell_type": "code",
   "execution_count": 30,
   "id": "8d261a05",
   "metadata": {
    "execution": {
     "iopub.execute_input": "2024-09-27T18:25:15.245037Z",
     "iopub.status.busy": "2024-09-27T18:25:15.244570Z",
     "iopub.status.idle": "2024-09-27T18:25:15.257104Z",
     "shell.execute_reply": "2024-09-27T18:25:15.255923Z"
    },
    "papermill": {
     "duration": 0.035032,
     "end_time": "2024-09-27T18:25:15.259792",
     "exception": false,
     "start_time": "2024-09-27T18:25:15.224760",
     "status": "completed"
    },
    "tags": []
   },
   "outputs": [],
   "source": [
    "scaler_df = StandardScaler()\n",
    "x = pd.DataFrame(scaler_df. fit_transform(x),columns = x.columns)"
   ]
  },
  {
   "cell_type": "code",
   "execution_count": 31,
   "id": "c8887125",
   "metadata": {
    "execution": {
     "iopub.execute_input": "2024-09-27T18:25:15.296022Z",
     "iopub.status.busy": "2024-09-27T18:25:15.295636Z",
     "iopub.status.idle": "2024-09-27T18:25:15.881792Z",
     "shell.execute_reply": "2024-09-27T18:25:15.880479Z"
    },
    "papermill": {
     "duration": 0.607526,
     "end_time": "2024-09-27T18:25:15.884559",
     "exception": false,
     "start_time": "2024-09-27T18:25:15.277033",
     "status": "completed"
    },
    "tags": []
   },
   "outputs": [
    {
     "data": {
      "image/png": "[encoded data removed]",
      "text/plain": [
       "<Figure size 1200x800 with 2 Axes>"
      ]
     },
     "metadata": {},
     "output_type": "display_data"
    }
   ],
   "source": [
    "plt.figure(figsize = (12,8))\n",
    "sns.heatmap(data = df.corr(),annot = True, cmap='viridis')\n",
    "plt.show()"
   ]
  },
  {
   "cell_type": "code",
   "execution_count": 32,
   "id": "4115460d",
   "metadata": {
    "execution": {
     "iopub.execute_input": "2024-09-27T18:25:15.924572Z",
     "iopub.status.busy": "2024-09-27T18:25:15.924058Z",
     "iopub.status.idle": "2024-09-27T18:25:15.934811Z",
     "shell.execute_reply": "2024-09-27T18:25:15.933704Z"
    },
    "papermill": {
     "duration": 0.033807,
     "end_time": "2024-09-27T18:25:15.937163",
     "exception": false,
     "start_time": "2024-09-27T18:25:15.903356",
     "status": "completed"
    },
    "tags": []
   },
   "outputs": [],
   "source": [
    "x_train,x_test,y_train,y_test = train_test_split(x,y, test_size = 0.2, random_state = 30)"
   ]
  },
  {
   "cell_type": "code",
   "execution_count": 33,
   "id": "886447b8",
   "metadata": {
    "execution": {
     "iopub.execute_input": "2024-09-27T18:25:15.976076Z",
     "iopub.status.busy": "2024-09-27T18:25:15.975648Z",
     "iopub.status.idle": "2024-09-27T18:25:16.221964Z",
     "shell.execute_reply": "2024-09-27T18:25:16.220856Z"
    },
    "papermill": {
     "duration": 0.269125,
     "end_time": "2024-09-27T18:25:16.224812",
     "exception": false,
     "start_time": "2024-09-27T18:25:15.955687",
     "status": "completed"
    },
    "tags": []
   },
   "outputs": [],
   "source": [
    "from sklearn.linear_model import LinearRegression,Lasso, Ridge,ElasticNet\n",
    "from sklearn.tree import DecisionTreeRegressor\n",
    "from sklearn.svm import SVR\n",
    "from sklearn.neighbors import KNeighborsRegressor\n",
    "from sklearn.ensemble import RandomForestRegressor"
   ]
  },
  {
   "cell_type": "code",
   "execution_count": 34,
   "id": "023fb706",
   "metadata": {
    "execution": {
     "iopub.execute_input": "2024-09-27T18:25:16.265200Z",
     "iopub.status.busy": "2024-09-27T18:25:16.264722Z",
     "iopub.status.idle": "2024-09-27T18:25:16.270626Z",
     "shell.execute_reply": "2024-09-27T18:25:16.269392Z"
    },
    "papermill": {
     "duration": 0.029292,
     "end_time": "2024-09-27T18:25:16.273433",
     "exception": false,
     "start_time": "2024-09-27T18:25:16.244141",
     "status": "completed"
    },
    "tags": []
   },
   "outputs": [],
   "source": [
    "from sklearn.metrics import mean_squared_error , mean_absolute_error"
   ]
  },
  {
   "cell_type": "code",
   "execution_count": 35,
   "id": "ec162e6c",
   "metadata": {
    "execution": {
     "iopub.execute_input": "2024-09-27T18:25:16.313634Z",
     "iopub.status.busy": "2024-09-27T18:25:16.313192Z",
     "iopub.status.idle": "2024-09-27T18:25:16.340801Z",
     "shell.execute_reply": "2024-09-27T18:25:16.339525Z"
    },
    "papermill": {
     "duration": 0.050927,
     "end_time": "2024-09-27T18:25:16.343338",
     "exception": false,
     "start_time": "2024-09-27T18:25:16.292411",
     "status": "completed"
    },
    "tags": []
   },
   "outputs": [
    {
     "data": {
      "text/plain": [
       "(-102.73351955498113, 100.0)"
      ]
     },
     "execution_count": 35,
     "metadata": {},
     "output_type": "execute_result"
    }
   ],
   "source": [
    "dt =DecisionTreeRegressor()\n",
    "dt.fit(x_train,y_train)\n",
    "dt.score(x_test,y_test)*100, dt.score(x_train,y_train)*100"
   ]
  },
  {
   "cell_type": "code",
   "execution_count": 36,
   "id": "be19b4a2",
   "metadata": {
    "execution": {
     "iopub.execute_input": "2024-09-27T18:25:16.384056Z",
     "iopub.status.busy": "2024-09-27T18:25:16.383634Z",
     "iopub.status.idle": "2024-09-27T18:25:16.395688Z",
     "shell.execute_reply": "2024-09-27T18:25:16.394509Z"
    },
    "papermill": {
     "duration": 0.035662,
     "end_time": "2024-09-27T18:25:16.398244",
     "exception": false,
     "start_time": "2024-09-27T18:25:16.362582",
     "status": "completed"
    },
    "tags": []
   },
   "outputs": [
    {
     "data": {
      "text/plain": [
       "(1556102549.0413537, 32243.691179999998)"
      ]
     },
     "execution_count": 36,
     "metadata": {},
     "output_type": "execute_result"
    }
   ],
   "source": [
    "mean_squared_error(y_test ,dt.predict(x_test)),mean_absolute_error(y_test ,dt.predict(x_test))"
   ]
  },
  {
   "cell_type": "code",
   "execution_count": 37,
   "id": "c2974de0",
   "metadata": {
    "execution": {
     "iopub.execute_input": "2024-09-27T18:25:16.438621Z",
     "iopub.status.busy": "2024-09-27T18:25:16.437362Z",
     "iopub.status.idle": "2024-09-27T18:25:16.457640Z",
     "shell.execute_reply": "2024-09-27T18:25:16.456389Z"
    },
    "papermill": {
     "duration": 0.043489,
     "end_time": "2024-09-27T18:25:16.460514",
     "exception": false,
     "start_time": "2024-09-27T18:25:16.417025",
     "status": "completed"
    },
    "tags": []
   },
   "outputs": [
    {
     "data": {
      "text/html": [
       "<div>\n",
       "<style scoped>\n",
       "    .dataframe tbody tr th:only-of-type {\n",
       "        vertical-align: middle;\n",
       "    }\n",
       "\n",
       "    .dataframe tbody tr th {\n",
       "        vertical-align: top;\n",
       "    }\n",
       "\n",
       "    .dataframe thead th {\n",
       "        text-align: right;\n",
       "    }\n",
       "</style>\n",
       "<table border=\"1\" class=\"dataframe\">\n",
       "  <thead>\n",
       "    <tr style=\"text-align: right;\">\n",
       "      <th></th>\n",
       "      <th>Brand</th>\n",
       "      <th>Year</th>\n",
       "      <th>Engine Size</th>\n",
       "      <th>Fuel Type</th>\n",
       "      <th>Transmission</th>\n",
       "      <th>Mileage</th>\n",
       "      <th>Condition</th>\n",
       "      <th>Model</th>\n",
       "    </tr>\n",
       "  </thead>\n",
       "  <tbody>\n",
       "    <tr>\n",
       "      <th>679</th>\n",
       "      <td>1.484284</td>\n",
       "      <td>1.340886</td>\n",
       "      <td>-0.255097</td>\n",
       "      <td>-0.426771</td>\n",
       "      <td>-1.047528</td>\n",
       "      <td>0.151204</td>\n",
       "      <td>1.206712</td>\n",
       "      <td>1.078942</td>\n",
       "    </tr>\n",
       "    <tr>\n",
       "      <th>1062</th>\n",
       "      <td>-1.485868</td>\n",
       "      <td>-1.234110</td>\n",
       "      <td>-0.744004</td>\n",
       "      <td>-1.311453</td>\n",
       "      <td>0.954628</td>\n",
       "      <td>-1.639795</td>\n",
       "      <td>-1.225194</td>\n",
       "      <td>1.325715</td>\n",
       "    </tr>\n",
       "    <tr>\n",
       "      <th>2114</th>\n",
       "      <td>0.989259</td>\n",
       "      <td>-1.663276</td>\n",
       "      <td>-1.232910</td>\n",
       "      <td>0.457911</td>\n",
       "      <td>-1.047528</td>\n",
       "      <td>0.905017</td>\n",
       "      <td>-0.009241</td>\n",
       "      <td>0.462009</td>\n",
       "    </tr>\n",
       "    <tr>\n",
       "      <th>524</th>\n",
       "      <td>-0.000792</td>\n",
       "      <td>0.625610</td>\n",
       "      <td>0.233809</td>\n",
       "      <td>1.342593</td>\n",
       "      <td>0.954628</td>\n",
       "      <td>-0.498392</td>\n",
       "      <td>1.206712</td>\n",
       "      <td>-1.142017</td>\n",
       "    </tr>\n",
       "    <tr>\n",
       "      <th>1636</th>\n",
       "      <td>-1.485868</td>\n",
       "      <td>0.196444</td>\n",
       "      <td>-0.255097</td>\n",
       "      <td>-0.426771</td>\n",
       "      <td>-1.047528</td>\n",
       "      <td>0.833574</td>\n",
       "      <td>-1.225194</td>\n",
       "      <td>1.325715</td>\n",
       "    </tr>\n",
       "    <tr>\n",
       "      <th>...</th>\n",
       "      <td>...</td>\n",
       "      <td>...</td>\n",
       "      <td>...</td>\n",
       "      <td>...</td>\n",
       "      <td>...</td>\n",
       "      <td>...</td>\n",
       "      <td>...</td>\n",
       "      <td>...</td>\n",
       "    </tr>\n",
       "    <tr>\n",
       "      <th>552</th>\n",
       "      <td>-1.485868</td>\n",
       "      <td>-1.663276</td>\n",
       "      <td>0.652872</td>\n",
       "      <td>-1.311453</td>\n",
       "      <td>-1.047528</td>\n",
       "      <td>-1.436865</td>\n",
       "      <td>-0.009241</td>\n",
       "      <td>-1.265404</td>\n",
       "    </tr>\n",
       "    <tr>\n",
       "      <th>490</th>\n",
       "      <td>0.494233</td>\n",
       "      <td>0.768665</td>\n",
       "      <td>-1.442442</td>\n",
       "      <td>1.342593</td>\n",
       "      <td>-1.047528</td>\n",
       "      <td>1.080041</td>\n",
       "      <td>1.206712</td>\n",
       "      <td>0.215236</td>\n",
       "    </tr>\n",
       "    <tr>\n",
       "      <th>1883</th>\n",
       "      <td>0.494233</td>\n",
       "      <td>-0.947999</td>\n",
       "      <td>-1.512286</td>\n",
       "      <td>1.342593</td>\n",
       "      <td>-1.047528</td>\n",
       "      <td>-0.198628</td>\n",
       "      <td>-0.009241</td>\n",
       "      <td>-0.401697</td>\n",
       "    </tr>\n",
       "    <tr>\n",
       "      <th>20</th>\n",
       "      <td>0.494233</td>\n",
       "      <td>1.054776</td>\n",
       "      <td>0.303653</td>\n",
       "      <td>1.342593</td>\n",
       "      <td>-1.047528</td>\n",
       "      <td>0.487565</td>\n",
       "      <td>1.206712</td>\n",
       "      <td>-1.018630</td>\n",
       "    </tr>\n",
       "    <tr>\n",
       "      <th>199</th>\n",
       "      <td>-1.485868</td>\n",
       "      <td>-1.663276</td>\n",
       "      <td>0.233809</td>\n",
       "      <td>-1.311453</td>\n",
       "      <td>-1.047528</td>\n",
       "      <td>1.448143</td>\n",
       "      <td>1.206712</td>\n",
       "      <td>1.202328</td>\n",
       "    </tr>\n",
       "  </tbody>\n",
       "</table>\n",
       "<p>500 rows × 8 columns</p>\n",
       "</div>"
      ],
      "text/plain": [
       "         Brand      Year  Engine Size  Fuel Type  Transmission   Mileage  \\\n",
       "679   1.484284  1.340886    -0.255097  -0.426771     -1.047528  0.151204   \n",
       "1062 -1.485868 -1.234110    -0.744004  -1.311453      0.954628 -1.639795   \n",
       "2114  0.989259 -1.663276    -1.232910   0.457911     -1.047528  0.905017   \n",
       "524  -0.000792  0.625610     0.233809   1.342593      0.954628 -0.498392   \n",
       "1636 -1.485868  0.196444    -0.255097  -0.426771     -1.047528  0.833574   \n",
       "...        ...       ...          ...        ...           ...       ...   \n",
       "552  -1.485868 -1.663276     0.652872  -1.311453     -1.047528 -1.436865   \n",
       "490   0.494233  0.768665    -1.442442   1.342593     -1.047528  1.080041   \n",
       "1883  0.494233 -0.947999    -1.512286   1.342593     -1.047528 -0.198628   \n",
       "20    0.494233  1.054776     0.303653   1.342593     -1.047528  0.487565   \n",
       "199  -1.485868 -1.663276     0.233809  -1.311453     -1.047528  1.448143   \n",
       "\n",
       "      Condition     Model  \n",
       "679    1.206712  1.078942  \n",
       "1062  -1.225194  1.325715  \n",
       "2114  -0.009241  0.462009  \n",
       "524    1.206712 -1.142017  \n",
       "1636  -1.225194  1.325715  \n",
       "...         ...       ...  \n",
       "552   -0.009241 -1.265404  \n",
       "490    1.206712  0.215236  \n",
       "1883  -0.009241 -0.401697  \n",
       "20     1.206712 -1.018630  \n",
       "199    1.206712  1.202328  \n",
       "\n",
       "[500 rows x 8 columns]"
      ]
     },
     "execution_count": 37,
     "metadata": {},
     "output_type": "execute_result"
    }
   ],
   "source": [
    "x_test"
   ]
  },
  {
   "cell_type": "code",
   "execution_count": 38,
   "id": "e7a62dde",
   "metadata": {
    "execution": {
     "iopub.execute_input": "2024-09-27T18:25:16.503107Z",
     "iopub.status.busy": "2024-09-27T18:25:16.502661Z",
     "iopub.status.idle": "2024-09-27T18:25:16.514707Z",
     "shell.execute_reply": "2024-09-27T18:25:16.513353Z"
    },
    "papermill": {
     "duration": 0.036435,
     "end_time": "2024-09-27T18:25:16.517233",
     "exception": false,
     "start_time": "2024-09-27T18:25:16.480798",
     "status": "completed"
    },
    "tags": []
   },
   "outputs": [
    {
     "name": "stderr",
     "output_type": "stream",
     "text": [
      "/opt/conda/lib/python3.10/site-packages/sklearn/base.py:439: UserWarning: X does not have valid feature names, but DecisionTreeRegressor was fitted with feature names\n",
      "  warnings.warn(\n"
     ]
    },
    {
     "data": {
      "text/plain": [
       "array([81568.35])"
      ]
     },
     "execution_count": 38,
     "metadata": {},
     "output_type": "execute_result"
    }
   ],
   "source": [
    "dt.predict([[1.484284,1.340886,-0.255097,-0.426771,-1.047528,0.151204,1.206712,1.078942]])"
   ]
  },
  {
   "cell_type": "code",
   "execution_count": 39,
   "id": "01711082",
   "metadata": {
    "execution": {
     "iopub.execute_input": "2024-09-27T18:25:16.560271Z",
     "iopub.status.busy": "2024-09-27T18:25:16.559179Z",
     "iopub.status.idle": "2024-09-27T18:25:16.569457Z",
     "shell.execute_reply": "2024-09-27T18:25:16.568119Z"
    },
    "papermill": {
     "duration": 0.034859,
     "end_time": "2024-09-27T18:25:16.572150",
     "exception": false,
     "start_time": "2024-09-27T18:25:16.537291",
     "status": "completed"
    },
    "tags": []
   },
   "outputs": [
    {
     "data": {
      "text/plain": [
       "679     70016.62\n",
       "1062    94827.57\n",
       "2114    21792.22\n",
       "524     10986.59\n",
       "1636    67863.46\n",
       "Name: Price, dtype: float64"
      ]
     },
     "execution_count": 39,
     "metadata": {},
     "output_type": "execute_result"
    }
   ],
   "source": [
    "y_test.head()"
   ]
  },
  {
   "cell_type": "code",
   "execution_count": 40,
   "id": "d0174f0b",
   "metadata": {
    "execution": {
     "iopub.execute_input": "2024-09-27T18:25:16.615778Z",
     "iopub.status.busy": "2024-09-27T18:25:16.615333Z",
     "iopub.status.idle": "2024-09-27T18:25:16.631115Z",
     "shell.execute_reply": "2024-09-27T18:25:16.629900Z"
    },
    "papermill": {
     "duration": 0.04085,
     "end_time": "2024-09-27T18:25:16.633571",
     "exception": false,
     "start_time": "2024-09-27T18:25:16.592721",
     "status": "completed"
    },
    "tags": []
   },
   "outputs": [
    {
     "data": {
      "text/html": [
       "<div>\n",
       "<style scoped>\n",
       "    .dataframe tbody tr th:only-of-type {\n",
       "        vertical-align: middle;\n",
       "    }\n",
       "\n",
       "    .dataframe tbody tr th {\n",
       "        vertical-align: top;\n",
       "    }\n",
       "\n",
       "    .dataframe thead th {\n",
       "        text-align: right;\n",
       "    }\n",
       "</style>\n",
       "<table border=\"1\" class=\"dataframe\">\n",
       "  <thead>\n",
       "    <tr style=\"text-align: right;\">\n",
       "      <th></th>\n",
       "      <th>Brand</th>\n",
       "      <th>Year</th>\n",
       "      <th>Engine Size</th>\n",
       "      <th>Fuel Type</th>\n",
       "      <th>Transmission</th>\n",
       "      <th>Mileage</th>\n",
       "      <th>Condition</th>\n",
       "      <th>Price</th>\n",
       "      <th>Model</th>\n",
       "    </tr>\n",
       "  </thead>\n",
       "  <tbody>\n",
       "    <tr>\n",
       "      <th>0</th>\n",
       "      <td>5</td>\n",
       "      <td>2016</td>\n",
       "      <td>2.3</td>\n",
       "      <td>3</td>\n",
       "      <td>1</td>\n",
       "      <td>114832</td>\n",
       "      <td>1</td>\n",
       "      <td>26613.92</td>\n",
       "      <td>19</td>\n",
       "    </tr>\n",
       "    <tr>\n",
       "      <th>1</th>\n",
       "      <td>1</td>\n",
       "      <td>2018</td>\n",
       "      <td>4.4</td>\n",
       "      <td>1</td>\n",
       "      <td>1</td>\n",
       "      <td>143190</td>\n",
       "      <td>2</td>\n",
       "      <td>14679.61</td>\n",
       "      <td>1</td>\n",
       "    </tr>\n",
       "    <tr>\n",
       "      <th>2</th>\n",
       "      <td>0</td>\n",
       "      <td>2013</td>\n",
       "      <td>4.5</td>\n",
       "      <td>1</td>\n",
       "      <td>1</td>\n",
       "      <td>181601</td>\n",
       "      <td>1</td>\n",
       "      <td>44402.61</td>\n",
       "      <td>3</td>\n",
       "    </tr>\n",
       "    <tr>\n",
       "      <th>3</th>\n",
       "      <td>5</td>\n",
       "      <td>2011</td>\n",
       "      <td>4.1</td>\n",
       "      <td>0</td>\n",
       "      <td>0</td>\n",
       "      <td>68682</td>\n",
       "      <td>1</td>\n",
       "      <td>86374.33</td>\n",
       "      <td>20</td>\n",
       "    </tr>\n",
       "    <tr>\n",
       "      <th>4</th>\n",
       "      <td>2</td>\n",
       "      <td>2009</td>\n",
       "      <td>2.6</td>\n",
       "      <td>0</td>\n",
       "      <td>1</td>\n",
       "      <td>223009</td>\n",
       "      <td>0</td>\n",
       "      <td>73577.10</td>\n",
       "      <td>21</td>\n",
       "    </tr>\n",
       "  </tbody>\n",
       "</table>\n",
       "</div>"
      ],
      "text/plain": [
       "   Brand  Year  Engine Size  Fuel Type  Transmission  Mileage  Condition  \\\n",
       "0      5  2016          2.3          3             1   114832          1   \n",
       "1      1  2018          4.4          1             1   143190          2   \n",
       "2      0  2013          4.5          1             1   181601          1   \n",
       "3      5  2011          4.1          0             0    68682          1   \n",
       "4      2  2009          2.6          0             1   223009          0   \n",
       "\n",
       "      Price  Model  \n",
       "0  26613.92     19  \n",
       "1  14679.61      1  \n",
       "2  44402.61      3  \n",
       "3  86374.33     20  \n",
       "4  73577.10     21  "
      ]
     },
     "execution_count": 40,
     "metadata": {},
     "output_type": "execute_result"
    }
   ],
   "source": [
    "df.head()"
   ]
  }
 ],
 "metadata": {
  "kaggle": {
   "accelerator": "none",
   "dataSources": [
    {
     "datasetId": 5745023,
     "sourceId": 9451614,
     "sourceType": "datasetVersion"
    }
   ],
   "dockerImageVersionId": 30775,
   "isGpuEnabled": false,
   "isInternetEnabled": true,
   "language": "python",
   "sourceType": "notebook"
  },
  "kernelspec": {
   "display_name": "Python 3",
   "language": "python",
   "name": "python3"
  },
  "language_info": {
   "codemirror_mode": {
    "name": "ipython",
    "version": 3
   },
   "file_extension": ".py",
   "mimetype": "text/x-python",
   "name": "python",
   "nbconvert_exporter": "python",
   "pygments_lexer": "ipython3",
   "version": "3.10.14"
  },
  "papermill": {
   "default_parameters": {},
   "duration": 11.024244,
   "end_time": "2024-09-27T18:25:17.379556",
   "environment_variables": {},
   "exception": null,
   "input_path": "__notebook__.ipynb",
   "output_path": "__notebook__.ipynb",
   "parameters": {},
   "start_time": "2024-09-27T18:25:06.355312",
   "version": "2.6.0"
  }
 },
 "nbformat": 4,
 "nbformat_minor": 5
}
